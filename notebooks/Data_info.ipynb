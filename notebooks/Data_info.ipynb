{
 "cells": [
  {
   "cell_type": "markdown",
   "metadata": {},
   "source": [
    "# Optimized VGG16 Fine-tuning for Plant Disease Classification\n",
    "\n",
    "This notebook implements an optimized approach for fine-tuning VGG16 on a hierarchical plant disease classification task."
   ]
  },
  {
   "cell_type": "code",
   "execution_count": 1,
   "metadata": {},
   "outputs": [
    {
     "ename": "ModuleNotFoundError",
     "evalue": "No module named 'pandas'",
     "output_type": "error",
     "traceback": [
      "\u001b[31m---------------------------------------------------------------------------\u001b[39m",
      "\u001b[31mModuleNotFoundError\u001b[39m                       Traceback (most recent call last)",
      "\u001b[36mCell\u001b[39m\u001b[36m \u001b[39m\u001b[32mIn[1]\u001b[39m\u001b[32m, line 1\u001b[39m\n\u001b[32m----> \u001b[39m\u001b[32m1\u001b[39m \u001b[38;5;28;01mimport\u001b[39;00m\u001b[38;5;250m \u001b[39m\u001b[34;01mpandas\u001b[39;00m\u001b[38;5;250m \u001b[39m\u001b[38;5;28;01mas\u001b[39;00m\u001b[38;5;250m \u001b[39m\u001b[34;01mpd\u001b[39;00m\n\u001b[32m      2\u001b[39m \u001b[38;5;28;01mimport\u001b[39;00m\u001b[38;5;250m \u001b[39m\u001b[34;01mnumpy\u001b[39;00m\u001b[38;5;250m \u001b[39m\u001b[38;5;28;01mas\u001b[39;00m\u001b[38;5;250m \u001b[39m\u001b[34;01mnp\u001b[39;00m\n\u001b[32m      3\u001b[39m \u001b[38;5;28;01mimport\u001b[39;00m\u001b[38;5;250m \u001b[39m\u001b[34;01mmatplotlib\u001b[39;00m\u001b[34;01m.\u001b[39;00m\u001b[34;01mpyplot\u001b[39;00m\u001b[38;5;250m \u001b[39m\u001b[38;5;28;01mas\u001b[39;00m\u001b[38;5;250m \u001b[39m\u001b[34;01mplt\u001b[39;00m\n",
      "\u001b[31mModuleNotFoundError\u001b[39m: No module named 'pandas'"
     ]
    }
   ],
   "source": [
    "import pandas as pd\n",
    "import numpy as np\n",
    "import matplotlib.pyplot as plt\n",
    "import os\n",
    "import tensorflow as tf\n",
    "from tensorflow.keras.preprocessing.image import ImageDataGenerator\n",
    "from tensorflow.keras.applications import VGG16\n",
    "from tensorflow.keras.applications.vgg16 import preprocess_input\n",
    "from tensorflow.keras.layers import Dense, GlobalAveragePooling2D, Dropout, Input, BatchNormalization\n",
    "from tensorflow.keras.models import Model, Sequential\n",
    "from tensorflow.keras.optimizers import Adam\n",
    "from tensorflow.keras.callbacks import ModelCheckpoint, EarlyStopping, ReduceLROnPlateau, TensorBoard\n",
    "from tensorflow.keras.metrics import Precision, Recall\n",
    "from sklearn.preprocessing import LabelEncoder\n",
    "from sklearn.model_selection import train_test_split\n",
    "\n",
    "\n",
    "np.random.seed(42)\n",
    "tf.random.set_seed(42)"
   ]
  },
  {
   "cell_type": "markdown",
   "metadata": {},
   "source": [
    "## 1. Data Loading and Preprocessing"
   ]
  },
  {
   "cell_type": "code",
   "execution_count": 2,
   "metadata": {},
   "outputs": [],
   "source": [
    "#Load data\n",
    "df_train = pd.read_csv(\"Train.csv\")\n",
    "df_valid = pd.read_csv(\"Valid.csv\")"
   ]
  },
  {
   "cell_type": "code",
   "execution_count": 3,
   "metadata": {},
   "outputs": [
    {
     "data": {
      "text/plain": [
       "plant\n",
       "Tomato                     18345\n",
       "Apple                       7771\n",
       "Corn_(maize)                7316\n",
       "Grape                       7222\n",
       "Potato                      5702\n",
       "Pepper,_bell                3901\n",
       "Strawberry                  3598\n",
       "Peach                       3566\n",
       "Cherry_(including_sour)     3509\n",
       "Soybean                     2022\n",
       "Orange                      2010\n",
       "Blueberry                   1816\n",
       "Raspberry                   1781\n",
       "Squash                      1736\n",
       "Name: count, dtype: int64"
      ]
     },
     "execution_count": 3,
     "metadata": {},
     "output_type": "execute_result"
    }
   ],
   "source": [
    "df_train['plant'].value_counts()"
   ]
  },
  {
   "cell_type": "code",
   "execution_count": 4,
   "metadata": {},
   "outputs": [
    {
     "name": "stdout",
     "output_type": "stream",
     "text": [
      "Apple has 4 diseases: ['Apple_scab', 'Black_rot', 'Cedar_apple_rust', 'healthy']\n",
      "Blueberry has 1 diseases: ['healthy']\n",
      "Cherry_(including_sour) has 2 diseases: ['Powdery_mildew', 'healthy']\n",
      "Corn_(maize) has 4 diseases: ['Cercospora_leaf_spot Gray_leaf_spot', 'Common_rust_', 'Northern_Leaf_Blight', 'healthy']\n",
      "Grape has 4 diseases: ['Black_rot', 'Esca_(Black_Measles)', 'Leaf_blight_(Isariopsis_Leaf_Spot)', 'healthy']\n",
      "Orange has 1 diseases: ['Haunglongbing_(Citrus_greening)']\n",
      "Peach has 2 diseases: ['Bacterial_spot', 'healthy']\n",
      "Pepper,_bell has 2 diseases: ['Bacterial_spot', 'healthy']\n",
      "Potato has 3 diseases: ['Early_blight', 'Late_blight', 'healthy']\n",
      "Raspberry has 1 diseases: ['healthy']\n",
      "Soybean has 1 diseases: ['healthy']\n",
      "Squash has 1 diseases: ['Powdery_mildew']\n",
      "Strawberry has 2 diseases: ['Leaf_scorch', 'healthy']\n",
      "Tomato has 10 diseases: ['Bacterial_spot', 'Early_blight', 'Late_blight', 'Leaf_Mold', 'Septoria_leaf_spot', 'Spider_mites Two-spotted_spider_mite', 'Target_Spot', 'Tomato_Yellow_Leaf_Curl_Virus', 'Tomato_mosaic_virus', 'healthy']\n"
     ]
    }
   ],
   "source": [
    "plants = sorted(df_train['plant'].unique())\n",
    "num_plants = len(plants)\n",
    "\n",
    "diseases_per_plant = {}\n",
    "for plant in plants:\n",
    "    diseases = sorted(df_train[df_train['plant'] == plant]['disease'].unique())\n",
    "    diseases_per_plant[plant] = diseases\n",
    "    print(f\"{plant} has {len(diseases)} diseases: {diseases}\")\n",
    "\n",
    "\n",
    "max_diseases = max(len(diseases) for diseases in diseases_per_plant.values())"
   ]
  }
 ],
 "metadata": {
  "kernelspec": {
   "display_name": "Python 3",
   "language": "python",
   "name": "python3"
  },
  "language_info": {
   "codemirror_mode": {
    "name": "ipython",
    "version": 3
   },
   "file_extension": ".py",
   "mimetype": "text/x-python",
   "name": "python",
   "nbconvert_exporter": "python",
   "pygments_lexer": "ipython3",
   "version": "3.8.0"
  }
 },
 "nbformat": 4,
 "nbformat_minor": 4
}
